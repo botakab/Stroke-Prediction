{
  "nbformat": 4,
  "nbformat_minor": 0,
  "metadata": {
    "colab": {
      "name": "Stroke.ipynb",
      "provenance": [],
      "collapsed_sections": [],
      "toc_visible": true,
      "include_colab_link": true
    },
    "kernelspec": {
      "name": "python3",
      "display_name": "Python 3"
    }
  },
  "cells": [
    {
      "cell_type": "markdown",
      "metadata": {
        "id": "view-in-github",
        "colab_type": "text"
      },
      "source": [
        "<a href=\"https://colab.research.google.com/github/botakab/Stroke-Prediction/blob/main/Stroke.ipynb\" target=\"_parent\"><img src=\"https://colab.research.google.com/assets/colab-badge.svg\" alt=\"Open In Colab\"/></a>"
      ]
    },
    {
      "cell_type": "markdown",
      "metadata": {
        "id": "vYYDp8rKchxB"
      },
      "source": [
        "## **Stroke**"
      ]
    },
    {
      "cell_type": "markdown",
      "metadata": {
        "id": "m9RhSBJNgVKz"
      },
      "source": [
        "1. **Task:** To find out, whether the patient\n",
        "survived the stroke or did not.\n",
        "2. **Data:** Anonymized data from the UMC at NU.\n",
        "3. **Number of intances:** 150 subjects\n",
        "4. **Number of attributes:** 599 intances(1 dependent)"
      ]
    },
    {
      "cell_type": "markdown",
      "metadata": {
        "id": "MVVcNCceSS0H"
      },
      "source": [
        "# 1. **Data preprocessing**"
      ]
    },
    {
      "cell_type": "markdown",
      "metadata": {
        "id": "BuFPQLTUSc_C"
      },
      "source": [
        "1.1 **Reading the data**"
      ]
    },
    {
      "cell_type": "code",
      "metadata": {
        "id": "qftLLPdIA5vB"
      },
      "source": [
        "import pandas as pd\n",
        "import numpy as np\n",
        "import matplotlib.pyplot as plt\n",
        "import seaborn as sns\n",
        "from sklearn import preprocessing"
      ],
      "execution_count": null,
      "outputs": []
    },
    {
      "cell_type": "code",
      "metadata": {
        "id": "0jT8fKP4BFiX"
      },
      "source": [
        "df = pd.read_csv('https://raw.githubusercontent.com/baktybekdoskul/Stroke/master/baseline.csv')\n",
        "df.head()"
      ],
      "execution_count": null,
      "outputs": []
    },
    {
      "cell_type": "markdown",
      "metadata": {
        "id": "e2LjeKmzWvH0"
      },
      "source": [
        "1.2 **Dropping unnecessary columns** From common sense we know that column like *Patient number*, *patient initials* shouldn't affect to the result "
      ]
    },
    {
      "cell_type": "code",
      "metadata": {
        "id": "kscKHCd3XJ7h",
        "outputId": "ed2f7905-82c0-4133-85fa-7c60988b70c4",
        "colab": {
          "base_uri": "https://localhost:8080/",
          "height": 644
        }
      },
      "source": [
        "df.drop(columns=['Patient Number', 'Patient Initials'], axis=1, inplace=True)\n",
        "df.head()"
      ],
      "execution_count": null,
      "outputs": [
        {
          "output_type": "execute_result",
          "data": {
            "text/html": [
              "<div>\n",
              "<style scoped>\n",
              "    .dataframe tbody tr th:only-of-type {\n",
              "        vertical-align: middle;\n",
              "    }\n",
              "\n",
              "    .dataframe tbody tr th {\n",
              "        vertical-align: top;\n",
              "    }\n",
              "\n",
              "    .dataframe thead th {\n",
              "        text-align: right;\n",
              "    }\n",
              "</style>\n",
              "<table border=\"1\" class=\"dataframe\">\n",
              "  <thead>\n",
              "    <tr style=\"text-align: right;\">\n",
              "      <th></th>\n",
              "      <th>Age</th>\n",
              "      <th>Gender</th>\n",
              "      <th>Primary Diagnosis</th>\n",
              "      <th>Comorbidities (Diagnosis)</th>\n",
              "      <th>Weight</th>\n",
              "      <th>Height</th>\n",
              "      <th>Date of Admission to Hospital</th>\n",
              "      <th>Date of Discharge from Hospital</th>\n",
              "      <th>Days in Hospital</th>\n",
              "      <th>Date of admission to ICU</th>\n",
              "      <th>Date of discharge from ICU</th>\n",
              "      <th>Days in ICU</th>\n",
              "      <th>Death (yes/no)</th>\n",
              "      <th>DEATH</th>\n",
              "      <th>Date of Death</th>\n",
              "      <th>History of Hypertension (yes/no)</th>\n",
              "      <th>History of Hypertension</th>\n",
              "      <th>History of IHD (yes/no)</th>\n",
              "      <th>History of IHD</th>\n",
              "      <th>History of Diabetes Mellitus (yes/no)</th>\n",
              "      <th>History of Diabetes Mellitus</th>\n",
              "      <th>History of A-Fibrillation (yes/no)</th>\n",
              "      <th>History of A-Fibrillation</th>\n",
              "      <th>History of Metabolic Syndrome (yes/no)</th>\n",
              "      <th>History of Metabolic Syndrome</th>\n",
              "      <th>History of Chronic Renal Failure (yes/no)</th>\n",
              "      <th>History of Chronic Renal Failure</th>\n",
              "      <th>History of Chronic Liver Failure (yes/no)</th>\n",
              "      <th>History of Chronic Liver Failure</th>\n",
              "      <th>History of CVD</th>\n",
              "      <th>GCS on admission to hospital</th>\n",
              "      <th>Sys BP on admission to hospital</th>\n",
              "      <th>Dias BP on admission to hospital</th>\n",
              "      <th>Heart Rate on admission to hospital</th>\n",
              "      <th>Hemiparesis on admission to hospital (yes/no/unconscious)</th>\n",
              "      <th>Stroke diagnosis (Ischemic/hemorrhagic) on admission</th>\n",
              "      <th>Stroke_diag_ischemic</th>\n",
              "      <th>Stroke_diag_hemorrhagic</th>\n",
              "      <th>Stroke_diag_mixed</th>\n",
              "      <th>Stroke_diag_TIA</th>\n",
              "      <th>...</th>\n",
              "      <th>antibiotics_antimycotics_amoxicillin</th>\n",
              "      <th>antibiotics_antimycotics_ampicillin</th>\n",
              "      <th>antibiotics_antimycotics_avelox</th>\n",
              "      <th>antibiotics_antimycotics_cebanex</th>\n",
              "      <th>antibiotics_antimycotics_cef_iv</th>\n",
              "      <th>antibiotics_antimycotics_cefazolin</th>\n",
              "      <th>antibiotics_antimycotics_cefepime</th>\n",
              "      <th>antibiotics_antimycotics_cefoperazonum</th>\n",
              "      <th>antibiotics_antimycotics_cefpraz</th>\n",
              "      <th>antibiotics_antimycotics_ceftazidimum</th>\n",
              "      <th>antibiotics_antimycotics_ceftriaxone</th>\n",
              "      <th>antibiotics_antimycotics_cefuroximum</th>\n",
              "      <th>antibiotics_antimycotics_ciprofloxacinum</th>\n",
              "      <th>antibiotics_antimycotics_clavulanic_acid</th>\n",
              "      <th>antibiotics_antimycotics_fluconazole</th>\n",
              "      <th>antibiotics_antimycotics_fortum</th>\n",
              "      <th>antibiotics_antimycotics_gentamycinum</th>\n",
              "      <th>antibiotics_antimycotics_invanz</th>\n",
              "      <th>antibiotics_antimycotics_megacef</th>\n",
              "      <th>antibiotics_antimycotics_metronidazolum</th>\n",
              "      <th>antibiotics_antimycotics_mycomax</th>\n",
              "      <th>antibiotics_antimycotics_mycosan</th>\n",
              "      <th>antibiotics_antimycotics_ofloxacinum</th>\n",
              "      <th>antibiotics_antimycotics_prepenem</th>\n",
              "      <th>antibiotics_antimycotics_timentin</th>\n",
              "      <th>antibiotics_antimycotics_trifamox</th>\n",
              "      <th>antibiotics_antimycotics_present</th>\n",
              "      <th>Glucocorticosteroids in ICU (yes/no)</th>\n",
              "      <th>glucocorticosteroids_dexamethasone</th>\n",
              "      <th>glucocorticosteroids_prednisolonum</th>\n",
              "      <th>glucocorticosteroids_present</th>\n",
              "      <th>Vasopressors in ICU (yes/no)</th>\n",
              "      <th>vasopressors_dobutaminum</th>\n",
              "      <th>vasopressors_dopamine</th>\n",
              "      <th>vasopressors_epinephrine</th>\n",
              "      <th>vasopressors_epinephrinum</th>\n",
              "      <th>vasopressors_mesaton</th>\n",
              "      <th>vasopressors_norepinephrinum</th>\n",
              "      <th>vasopressors_phenylephrine</th>\n",
              "      <th>vasopressors_present</th>\n",
              "    </tr>\n",
              "  </thead>\n",
              "  <tbody>\n",
              "    <tr>\n",
              "      <th>0</th>\n",
              "      <td>87</td>\n",
              "      <td>f</td>\n",
              "      <td>Ischemic stroke. Cerebral infarction. Right MC...</td>\n",
              "      <td>Arterial hypertension. Risk 4.</td>\n",
              "      <td>NaN</td>\n",
              "      <td>NaN</td>\n",
              "      <td>11/18/2009</td>\n",
              "      <td>11/24/2009</td>\n",
              "      <td>6.0</td>\n",
              "      <td>11/18/2009</td>\n",
              "      <td>11/22/2009</td>\n",
              "      <td>4.0</td>\n",
              "      <td>no</td>\n",
              "      <td>0</td>\n",
              "      <td>no</td>\n",
              "      <td>yes</td>\n",
              "      <td>1</td>\n",
              "      <td>yes</td>\n",
              "      <td>1</td>\n",
              "      <td>no</td>\n",
              "      <td>0</td>\n",
              "      <td>yes</td>\n",
              "      <td>1</td>\n",
              "      <td>no</td>\n",
              "      <td>0.0</td>\n",
              "      <td>no</td>\n",
              "      <td>0</td>\n",
              "      <td>no</td>\n",
              "      <td>0</td>\n",
              "      <td>Arterial hypertension. Risk 4. Coronary heart ...</td>\n",
              "      <td>11</td>\n",
              "      <td>190</td>\n",
              "      <td>100</td>\n",
              "      <td>140</td>\n",
              "      <td>yes</td>\n",
              "      <td>Ischemic</td>\n",
              "      <td>1</td>\n",
              "      <td>0</td>\n",
              "      <td>0</td>\n",
              "      <td>0</td>\n",
              "      <td>...</td>\n",
              "      <td>0</td>\n",
              "      <td>0</td>\n",
              "      <td>0</td>\n",
              "      <td>0</td>\n",
              "      <td>0</td>\n",
              "      <td>0</td>\n",
              "      <td>0</td>\n",
              "      <td>1</td>\n",
              "      <td>0</td>\n",
              "      <td>0</td>\n",
              "      <td>0</td>\n",
              "      <td>0</td>\n",
              "      <td>0</td>\n",
              "      <td>0</td>\n",
              "      <td>0</td>\n",
              "      <td>0</td>\n",
              "      <td>0</td>\n",
              "      <td>0</td>\n",
              "      <td>0</td>\n",
              "      <td>0</td>\n",
              "      <td>0</td>\n",
              "      <td>0</td>\n",
              "      <td>0</td>\n",
              "      <td>0</td>\n",
              "      <td>0</td>\n",
              "      <td>0</td>\n",
              "      <td>1</td>\n",
              "      <td>no</td>\n",
              "      <td>0</td>\n",
              "      <td>0</td>\n",
              "      <td>0</td>\n",
              "      <td>NaN</td>\n",
              "      <td>0</td>\n",
              "      <td>0</td>\n",
              "      <td>0</td>\n",
              "      <td>0</td>\n",
              "      <td>0</td>\n",
              "      <td>0</td>\n",
              "      <td>0</td>\n",
              "      <td>0</td>\n",
              "    </tr>\n",
              "    <tr>\n",
              "      <th>1</th>\n",
              "      <td>72</td>\n",
              "      <td>f</td>\n",
              "      <td>Ischemic stroke. Cerebral infarction. Left MCA...</td>\n",
              "      <td>Arterial hypertension. Risk 4. Diabetes mellit...</td>\n",
              "      <td>NaN</td>\n",
              "      <td>NaN</td>\n",
              "      <td>11/25/2009</td>\n",
              "      <td>12/4/2009</td>\n",
              "      <td>9.0</td>\n",
              "      <td>11/25/2009</td>\n",
              "      <td>11/25/2009</td>\n",
              "      <td>0.0</td>\n",
              "      <td>no</td>\n",
              "      <td>0</td>\n",
              "      <td>no</td>\n",
              "      <td>yes</td>\n",
              "      <td>1</td>\n",
              "      <td>no</td>\n",
              "      <td>0</td>\n",
              "      <td>yes</td>\n",
              "      <td>1</td>\n",
              "      <td>no</td>\n",
              "      <td>0</td>\n",
              "      <td>yes</td>\n",
              "      <td>1.0</td>\n",
              "      <td>yes</td>\n",
              "      <td>1</td>\n",
              "      <td>no</td>\n",
              "      <td>0</td>\n",
              "      <td>Arterial hypertension. Risk 4. Coronary heart ...</td>\n",
              "      <td>15</td>\n",
              "      <td>210</td>\n",
              "      <td>110</td>\n",
              "      <td>88</td>\n",
              "      <td>yes</td>\n",
              "      <td>Ischemic</td>\n",
              "      <td>1</td>\n",
              "      <td>0</td>\n",
              "      <td>0</td>\n",
              "      <td>0</td>\n",
              "      <td>...</td>\n",
              "      <td>0</td>\n",
              "      <td>0</td>\n",
              "      <td>0</td>\n",
              "      <td>0</td>\n",
              "      <td>0</td>\n",
              "      <td>0</td>\n",
              "      <td>0</td>\n",
              "      <td>0</td>\n",
              "      <td>0</td>\n",
              "      <td>0</td>\n",
              "      <td>0</td>\n",
              "      <td>0</td>\n",
              "      <td>0</td>\n",
              "      <td>0</td>\n",
              "      <td>0</td>\n",
              "      <td>0</td>\n",
              "      <td>0</td>\n",
              "      <td>0</td>\n",
              "      <td>0</td>\n",
              "      <td>0</td>\n",
              "      <td>0</td>\n",
              "      <td>0</td>\n",
              "      <td>0</td>\n",
              "      <td>0</td>\n",
              "      <td>0</td>\n",
              "      <td>0</td>\n",
              "      <td>0</td>\n",
              "      <td>no</td>\n",
              "      <td>0</td>\n",
              "      <td>0</td>\n",
              "      <td>0</td>\n",
              "      <td>NaN</td>\n",
              "      <td>0</td>\n",
              "      <td>0</td>\n",
              "      <td>0</td>\n",
              "      <td>0</td>\n",
              "      <td>0</td>\n",
              "      <td>0</td>\n",
              "      <td>0</td>\n",
              "      <td>0</td>\n",
              "    </tr>\n",
              "    <tr>\n",
              "      <th>2</th>\n",
              "      <td>55</td>\n",
              "      <td>m</td>\n",
              "      <td>Intracerebral hemorrhage. Repeated hemorrhagic...</td>\n",
              "      <td>Hypostatic pneumonia. Respiratory failure 2.Ar...</td>\n",
              "      <td>NaN</td>\n",
              "      <td>NaN</td>\n",
              "      <td>11/11/2009</td>\n",
              "      <td>11/21/2009</td>\n",
              "      <td>10.0</td>\n",
              "      <td>11/11/2009</td>\n",
              "      <td>11/19/2009</td>\n",
              "      <td>8.0</td>\n",
              "      <td>no</td>\n",
              "      <td>0</td>\n",
              "      <td>no</td>\n",
              "      <td>yes</td>\n",
              "      <td>1</td>\n",
              "      <td>no</td>\n",
              "      <td>0</td>\n",
              "      <td>no</td>\n",
              "      <td>0</td>\n",
              "      <td>no</td>\n",
              "      <td>0</td>\n",
              "      <td>no</td>\n",
              "      <td>0.0</td>\n",
              "      <td>no</td>\n",
              "      <td>0</td>\n",
              "      <td>no</td>\n",
              "      <td>0</td>\n",
              "      <td>no</td>\n",
              "      <td>13</td>\n",
              "      <td>170</td>\n",
              "      <td>100</td>\n",
              "      <td>80</td>\n",
              "      <td>yes</td>\n",
              "      <td>hemorrhagic</td>\n",
              "      <td>0</td>\n",
              "      <td>1</td>\n",
              "      <td>0</td>\n",
              "      <td>0</td>\n",
              "      <td>...</td>\n",
              "      <td>0</td>\n",
              "      <td>0</td>\n",
              "      <td>0</td>\n",
              "      <td>0</td>\n",
              "      <td>0</td>\n",
              "      <td>1</td>\n",
              "      <td>0</td>\n",
              "      <td>0</td>\n",
              "      <td>0</td>\n",
              "      <td>0</td>\n",
              "      <td>0</td>\n",
              "      <td>0</td>\n",
              "      <td>0</td>\n",
              "      <td>0</td>\n",
              "      <td>0</td>\n",
              "      <td>0</td>\n",
              "      <td>0</td>\n",
              "      <td>0</td>\n",
              "      <td>0</td>\n",
              "      <td>0</td>\n",
              "      <td>0</td>\n",
              "      <td>0</td>\n",
              "      <td>0</td>\n",
              "      <td>0</td>\n",
              "      <td>0</td>\n",
              "      <td>0</td>\n",
              "      <td>1</td>\n",
              "      <td>no</td>\n",
              "      <td>0</td>\n",
              "      <td>0</td>\n",
              "      <td>0</td>\n",
              "      <td>NaN</td>\n",
              "      <td>0</td>\n",
              "      <td>0</td>\n",
              "      <td>0</td>\n",
              "      <td>0</td>\n",
              "      <td>0</td>\n",
              "      <td>0</td>\n",
              "      <td>0</td>\n",
              "      <td>0</td>\n",
              "    </tr>\n",
              "    <tr>\n",
              "      <th>3</th>\n",
              "      <td>76</td>\n",
              "      <td>f</td>\n",
              "      <td>Ischemic stroke. Cerebral infarction. Left ACA.</td>\n",
              "      <td>Arterial hypertension. Risk 4. Diabetes mellit...</td>\n",
              "      <td>NaN</td>\n",
              "      <td>NaN</td>\n",
              "      <td>11/18/2009</td>\n",
              "      <td>11/25/2009</td>\n",
              "      <td>7.0</td>\n",
              "      <td>11/18/2009</td>\n",
              "      <td>11/21/2009</td>\n",
              "      <td>3.0</td>\n",
              "      <td>no</td>\n",
              "      <td>0</td>\n",
              "      <td>no</td>\n",
              "      <td>yes</td>\n",
              "      <td>1</td>\n",
              "      <td>yes</td>\n",
              "      <td>1</td>\n",
              "      <td>yes</td>\n",
              "      <td>1</td>\n",
              "      <td>yes</td>\n",
              "      <td>1</td>\n",
              "      <td>yes</td>\n",
              "      <td>1.0</td>\n",
              "      <td>no</td>\n",
              "      <td>0</td>\n",
              "      <td>no</td>\n",
              "      <td>0</td>\n",
              "      <td>Arterial hypertension. Risk 4. Coronary heart ...</td>\n",
              "      <td>12</td>\n",
              "      <td>180</td>\n",
              "      <td>100</td>\n",
              "      <td>80</td>\n",
              "      <td>no</td>\n",
              "      <td>Ischemic</td>\n",
              "      <td>1</td>\n",
              "      <td>0</td>\n",
              "      <td>0</td>\n",
              "      <td>0</td>\n",
              "      <td>...</td>\n",
              "      <td>0</td>\n",
              "      <td>0</td>\n",
              "      <td>0</td>\n",
              "      <td>0</td>\n",
              "      <td>0</td>\n",
              "      <td>1</td>\n",
              "      <td>0</td>\n",
              "      <td>0</td>\n",
              "      <td>0</td>\n",
              "      <td>0</td>\n",
              "      <td>0</td>\n",
              "      <td>0</td>\n",
              "      <td>0</td>\n",
              "      <td>0</td>\n",
              "      <td>0</td>\n",
              "      <td>0</td>\n",
              "      <td>0</td>\n",
              "      <td>0</td>\n",
              "      <td>0</td>\n",
              "      <td>0</td>\n",
              "      <td>0</td>\n",
              "      <td>0</td>\n",
              "      <td>0</td>\n",
              "      <td>0</td>\n",
              "      <td>0</td>\n",
              "      <td>0</td>\n",
              "      <td>1</td>\n",
              "      <td>Yes. Dexamethasone.</td>\n",
              "      <td>1</td>\n",
              "      <td>0</td>\n",
              "      <td>1</td>\n",
              "      <td>NaN</td>\n",
              "      <td>0</td>\n",
              "      <td>0</td>\n",
              "      <td>0</td>\n",
              "      <td>0</td>\n",
              "      <td>0</td>\n",
              "      <td>0</td>\n",
              "      <td>0</td>\n",
              "      <td>0</td>\n",
              "    </tr>\n",
              "    <tr>\n",
              "      <th>4</th>\n",
              "      <td>72</td>\n",
              "      <td>f</td>\n",
              "      <td>Intracerebral hemorrhage. Hemorrhagic stroke. ...</td>\n",
              "      <td>Arterial hypertension. Risk 4.</td>\n",
              "      <td>NaN</td>\n",
              "      <td>NaN</td>\n",
              "      <td>11/17/2009</td>\n",
              "      <td>12/4/2009</td>\n",
              "      <td>17.0</td>\n",
              "      <td>11/17/2009</td>\n",
              "      <td>11/25/2009</td>\n",
              "      <td>8.0</td>\n",
              "      <td>no</td>\n",
              "      <td>0</td>\n",
              "      <td>no</td>\n",
              "      <td>no</td>\n",
              "      <td>0</td>\n",
              "      <td>no</td>\n",
              "      <td>0</td>\n",
              "      <td>no</td>\n",
              "      <td>0</td>\n",
              "      <td>no</td>\n",
              "      <td>0</td>\n",
              "      <td>no</td>\n",
              "      <td>0.0</td>\n",
              "      <td>no</td>\n",
              "      <td>0</td>\n",
              "      <td>no</td>\n",
              "      <td>0</td>\n",
              "      <td>no</td>\n",
              "      <td>15</td>\n",
              "      <td>150</td>\n",
              "      <td>80</td>\n",
              "      <td>80</td>\n",
              "      <td>no</td>\n",
              "      <td>hemorrhagic</td>\n",
              "      <td>0</td>\n",
              "      <td>1</td>\n",
              "      <td>0</td>\n",
              "      <td>0</td>\n",
              "      <td>...</td>\n",
              "      <td>0</td>\n",
              "      <td>0</td>\n",
              "      <td>0</td>\n",
              "      <td>0</td>\n",
              "      <td>0</td>\n",
              "      <td>1</td>\n",
              "      <td>0</td>\n",
              "      <td>0</td>\n",
              "      <td>0</td>\n",
              "      <td>0</td>\n",
              "      <td>0</td>\n",
              "      <td>0</td>\n",
              "      <td>0</td>\n",
              "      <td>0</td>\n",
              "      <td>0</td>\n",
              "      <td>0</td>\n",
              "      <td>0</td>\n",
              "      <td>0</td>\n",
              "      <td>0</td>\n",
              "      <td>0</td>\n",
              "      <td>0</td>\n",
              "      <td>0</td>\n",
              "      <td>0</td>\n",
              "      <td>0</td>\n",
              "      <td>0</td>\n",
              "      <td>0</td>\n",
              "      <td>1</td>\n",
              "      <td>no</td>\n",
              "      <td>0</td>\n",
              "      <td>0</td>\n",
              "      <td>0</td>\n",
              "      <td>NaN</td>\n",
              "      <td>0</td>\n",
              "      <td>0</td>\n",
              "      <td>0</td>\n",
              "      <td>0</td>\n",
              "      <td>0</td>\n",
              "      <td>0</td>\n",
              "      <td>0</td>\n",
              "      <td>0</td>\n",
              "    </tr>\n",
              "  </tbody>\n",
              "</table>\n",
              "<p>5 rows × 190 columns</p>\n",
              "</div>"
            ],
            "text/plain": [
              "   Age Gender  ... vasopressors_phenylephrine vasopressors_present\n",
              "0   87      f  ...                          0                    0\n",
              "1   72      f  ...                          0                    0\n",
              "2   55      m  ...                          0                    0\n",
              "3   76      f  ...                          0                    0\n",
              "4   72      f  ...                          0                    0\n",
              "\n",
              "[5 rows x 190 columns]"
            ]
          },
          "metadata": {
            "tags": []
          },
          "execution_count": 13
        }
      ]
    },
    {
      "cell_type": "markdown",
      "metadata": {
        "id": "Ry4vA1uGYDoo"
      },
      "source": [
        "1.3 **Initial data selection** Selected only numberic columns that we transformed or can be used directly (further we will obtain crucial columns)"
      ]
    },
    {
      "cell_type": "code",
      "metadata": {
        "id": "PjV0SeZaBQBI",
        "outputId": "901fe5a5-f708-43d6-ac78-2d07f5aaddb4",
        "colab": {
          "base_uri": "https://localhost:8080/",
          "height": 204
        }
      },
      "source": [
        "data = df.select_dtypes(include=np.int64)\n",
        "data.columns"
      ],
      "execution_count": null,
      "outputs": [
        {
          "output_type": "execute_result",
          "data": {
            "text/plain": [
              "Index(['Age', 'DEATH', 'History of Hypertension', 'History of IHD',\n",
              "       'History of Diabetes Mellitus', 'History of A-Fibrillation',\n",
              "       'History of Chronic Renal Failure', 'History of Chronic Liver Failure',\n",
              "       'GCS on admission to hospital', 'Heart Rate on admission to hospital',\n",
              "       ...\n",
              "       'glucocorticosteroids_prednisolonum', 'glucocorticosteroids_present',\n",
              "       'vasopressors_dobutaminum', 'vasopressors_dopamine',\n",
              "       'vasopressors_epinephrine', 'vasopressors_epinephrinum',\n",
              "       'vasopressors_mesaton', 'vasopressors_norepinephrinum',\n",
              "       'vasopressors_phenylephrine', 'vasopressors_present'],\n",
              "      dtype='object', length=154)"
            ]
          },
          "metadata": {
            "tags": []
          },
          "execution_count": 14
        }
      ]
    },
    {
      "cell_type": "markdown",
      "metadata": {
        "id": "yH0ezmq0YgH0"
      },
      "source": [
        "1.4 **Splitting out feature and target**"
      ]
    },
    {
      "cell_type": "code",
      "metadata": {
        "id": "QmwbtipkBd7j"
      },
      "source": [
        "X = data.drop(columns=['DEATH'])\n",
        "y = data['DEATH']"
      ],
      "execution_count": null,
      "outputs": []
    },
    {
      "cell_type": "markdown",
      "metadata": {
        "id": "XfWHPC4eYZfb"
      },
      "source": [
        "1.5 **Data normalization**"
      ]
    },
    {
      "cell_type": "code",
      "metadata": {
        "id": "NkLs-KDHYc6S"
      },
      "source": [
        "x = X.values\n"
      ],
      "execution_count": null,
      "outputs": []
    },
    {
      "cell_type": "markdown",
      "metadata": {
        "id": "80t4wZarZIkr"
      },
      "source": [
        "#2. **Data Visualization** \n",
        "(Only dependent vars are visualized. Because, we have to much indepent variables and visualization of the each variable will be unreadable and very cumbersome. Also, data correlation matrix for indepent features will be impossible to read it thus we did not include it)"
      ]
    },
    {
      "cell_type": "code",
      "metadata": {
        "id": "T5E7yb7UCjOS",
        "outputId": "91acd6f1-0ead-4155-a8cb-5abeb59cfdb2",
        "colab": {
          "base_uri": "https://localhost:8080/",
          "height": 279
        }
      },
      "source": [
        "ax = sns.countplot(y)"
      ],
      "execution_count": null,
      "outputs": [
        {
          "output_type": "display_data",
          "data": {
            "image/png": "[encoded data removed]",
            "text/plain": [
              "<Figure size 432x288 with 1 Axes>"
            ]
          },
          "metadata": {
            "tags": [],
            "needs_background": "light"
          }
        }
      ]
    },
    {
      "cell_type": "code",
      "metadata": {
        "id": "ARoqRi7Ccv0W",
        "outputId": "fb635307-1c23-4c51-80b2-393234f1a1aa",
        "colab": {
          "base_uri": "https://localhost:8080/",
          "height": 34
        }
      },
      "source": [
        "y.count()"
      ],
      "execution_count": null,
      "outputs": [
        {
          "output_type": "execute_result",
          "data": {
            "text/plain": [
              "150"
            ]
          },
          "metadata": {
            "tags": []
          },
          "execution_count": 10
        }
      ]
    },
    {
      "cell_type": "markdown",
      "metadata": {
        "id": "Y24c8qtbZgf_"
      },
      "source": [
        "# 3. **Data split**"
      ]
    },
    {
      "cell_type": "code",
      "metadata": {
        "id": "pWoQecqvBgdD"
      },
      "source": [
        "from sklearn.model_selection import train_test_split, KFold\n",
        "\n",
        "kfold = KFold(n_splits=10, shuffle=True, random_state=12)\n",
        "X_train, X_test, y_train, y_test = train_test_split(X, y, test_size=0.33, random_state=12)"
      ],
      "execution_count": null,
      "outputs": []
    },
    {
      "cell_type": "markdown",
      "metadata": {
        "id": "kIZ9_jBhZ--7"
      },
      "source": [
        "# 4. **Applying models**"
      ]
    },
    {
      "cell_type": "markdown",
      "metadata": {
        "id": "zMfavuogaK7c"
      },
      "source": [
        "4.1 **Logistic Regression classifier with cross validation**"
      ]
    },
    {
      "cell_type": "code",
      "metadata": {
        "id": "bcBFTx4qBkPu",
        "outputId": "f277e12f-534b-42f2-dbd1-2c7f19efaf02",
        "colab": {
          "base_uri": "https://localhost:8080/",
          "height": 119
        }
      },
      "source": [
        "from sklearn.linear_model import LogisticRegressionCV\n",
        "\n",
        "clf = LogisticRegressionCV(penalty='l1', solver='liblinear', max_iter=5000, random_state=12, cv=kfold)\n",
        "clf.fit(X_train, y_train)"
      ],
      "execution_count": null,
      "outputs": [
        {
          "output_type": "execute_result",
          "data": {
            "text/plain": [
              "LogisticRegressionCV(Cs=10, class_weight=None,\n",
              "                     cv=KFold(n_splits=10, random_state=12, shuffle=True),\n",
              "                     dual=False, fit_intercept=True, intercept_scaling=1.0,\n",
              "                     l1_ratios=None, max_iter=5000, multi_class='auto',\n",
              "                     n_jobs=None, penalty='l1', random_state=12, refit=True,\n",
              "                     scoring=None, solver='liblinear', tol=0.0001, verbose=0)"
            ]
          },
          "metadata": {
            "tags": []
          },
          "execution_count": 52
        }
      ]
    },
    {
      "cell_type": "code",
      "metadata": {
        "id": "uPM5PxdQBtZA",
        "outputId": "8fe2d617-24ad-48c2-fb8e-a2db9ff211bd",
        "colab": {
          "base_uri": "https://localhost:8080/",
          "height": 34
        }
      },
      "source": [
        "clf.score(X_test, y_test)"
      ],
      "execution_count": null,
      "outputs": [
        {
          "output_type": "execute_result",
          "data": {
            "text/plain": [
              "0.72"
            ]
          },
          "metadata": {
            "tags": []
          },
          "execution_count": 53
        }
      ]
    },
    {
      "cell_type": "code",
      "metadata": {
        "id": "vgchxrozBw6Q",
        "outputId": "7173a2ec-4d5d-4588-9174-6db35570ff84",
        "colab": {
          "base_uri": "https://localhost:8080/",
          "height": 544
        }
      },
      "source": [
        "clf.coef_"
      ],
      "execution_count": null,
      "outputs": [
        {
          "output_type": "execute_result",
          "data": {
            "text/plain": [
              "array([[-0.01536676,  0.        ,  0.26378955,  0.        ,  0.        ,\n",
              "         0.        ,  0.        , -0.0913191 ,  0.00405711,  0.        ,\n",
              "         0.        ,  0.        ,  0.        ,  0.        ,  0.        ,\n",
              "         0.        ,  0.        ,  0.        ,  0.        ,  0.        ,\n",
              "         0.        ,  0.        ,  0.        ,  0.        ,  0.        ,\n",
              "         0.        ,  0.        ,  0.        ,  0.        ,  0.        ,\n",
              "         0.        ,  0.        ,  0.        ,  0.        ,  0.        ,\n",
              "         0.        ,  0.        ,  0.        ,  0.        ,  0.        ,\n",
              "         0.        ,  0.52989167,  0.        ,  0.        ,  0.        ,\n",
              "         0.        ,  0.        ,  0.        ,  0.        ,  0.        ,\n",
              "         0.        ,  0.        ,  0.        ,  0.        ,  0.        ,\n",
              "         0.        ,  0.        ,  0.        ,  0.        , -0.06590874,\n",
              "         0.        ,  0.        ,  0.        ,  0.        ,  0.        ,\n",
              "         0.        ,  0.        ,  0.        ,  0.        ,  0.        ,\n",
              "         0.        ,  0.        ,  0.        ,  0.        ,  0.        ,\n",
              "         0.        ,  0.        ,  0.        ,  0.        ,  0.        ,\n",
              "         0.        ,  0.        ,  0.12591669,  0.        ,  0.        ,\n",
              "         0.        ,  0.        ,  0.        ,  0.        ,  0.        ,\n",
              "         0.        ,  0.        ,  0.        ,  0.        ,  0.        ,\n",
              "         0.        ,  0.        ,  0.        ,  0.        ,  0.        ,\n",
              "         0.        ,  0.        ,  0.        ,  0.        ,  0.        ,\n",
              "         0.        ,  0.        ,  0.        ,  0.        ,  0.        ,\n",
              "         0.        ,  0.        ,  0.        ,  0.        ,  0.        ,\n",
              "         0.        ,  0.        ,  0.        ,  0.        ,  0.        ,\n",
              "         0.1581448 ,  0.        ,  0.        ,  0.        ,  0.        ,\n",
              "         0.        ,  0.        ,  0.        ,  0.        ,  0.        ,\n",
              "         0.        ,  0.        ,  0.        ,  0.        ,  0.        ,\n",
              "         0.        ,  0.        ,  0.        ,  0.        ,  0.        ,\n",
              "         0.        ,  0.        ,  0.        ,  0.        ,  0.        ,\n",
              "         0.        ,  1.84267254,  0.        ,  0.        ,  0.        ,\n",
              "         0.        ,  0.        ,  0.        ]])"
            ]
          },
          "metadata": {
            "tags": []
          },
          "execution_count": 54
        }
      ]
    },
    {
      "cell_type": "markdown",
      "metadata": {
        "id": "44c-8lSLByKq"
      },
      "source": [
        "4.2 As you can see l1 regularization forced many coefficents to become 0. Thus, we can **focus** on only on **features with non-zero coefficents**\n"
      ]
    },
    {
      "cell_type": "code",
      "metadata": {
        "id": "bSVwwNggCEx0",
        "outputId": "a1fb1a7c-c4e9-487c-da70-b3b3bf193df6",
        "colab": {
          "base_uri": "https://localhost:8080/",
          "height": 170
        }
      },
      "source": [
        "for column, coef in zip(X.columns, clf.coef_[0]):\n",
        "    if coef != 0:\n",
        "        print(f'{column}: {coef}')"
      ],
      "execution_count": null,
      "outputs": [
        {
          "output_type": "stream",
          "text": [
            "Age: -0.015366764276459244\n",
            "History of IHD: 0.26378954793212545\n",
            "GCS on admission to hospital: -0.09131909664330086\n",
            "Heart Rate on admission to hospital: 0.004057109871173515\n",
            "antihypertensive_yes-non-regularle: 0.5298916719055814\n",
            "antihypertensive_icu_magnesium_sulfate: -0.06590873695396048\n",
            "antihypertensive_icu_enap: 0.1259166929368269\n",
            "antibiotics_antimycotics_cefazolin: 0.15814479577580623\n",
            "vasopressors_dopamine: 1.8426725399079784\n"
          ],
          "name": "stdout"
        }
      ]
    },
    {
      "cell_type": "markdown",
      "metadata": {
        "id": "SC9XaIO4OBQn"
      },
      "source": [
        "**Questions that should be adressed further:**\n",
        "\n",
        "1.   What columns are crucial from the medicinal sense?(We need to eliminate unnecessary columns in order to make our data more comprehensible and easy to manage)\n",
        "2.   How to interpret the values of Hyperglecemia column?\n",
        "3.   Baseline info: stroke area column: is rmca==rmch? , lpca==lmca??\n",
        "4.   How important are specific comorbidities that are peculiar (owned by) a small group of people? If some comorbidity is not listed for a particular patient, does this mean he doesn’t own this disease or whatever?\n",
        "5. Can we use average of blood pressures instead of using each day blood pressure?\n",
        "\n"
      ]
    }
  ]
}